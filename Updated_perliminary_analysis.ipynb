{
 "cells": [
  {
   "cell_type": "code",
   "execution_count": 17,
   "id": "consistent-junction",
   "metadata": {},
   "outputs": [],
   "source": [
    "# Run this cell before continuing.\n",
    "library(cowplot)\n",
    "library(digest)\n",
    "library(gridExtra)\n",
    "library(infer)\n",
    "library(repr)\n",
    "library(tidyverse)\n",
    "library(datateachr)\n"
   ]
  },
  {
   "cell_type": "code",
   "execution_count": 18,
   "id": "meaningful-avenue",
   "metadata": {},
   "outputs": [
    {
     "name": "stderr",
     "output_type": "stream",
     "text": [
      "\n",
      "\u001b[36m──\u001b[39m \u001b[1m\u001b[1mColumn specification\u001b[1m\u001b[22m \u001b[36m────────────────────────────────────────────────────────\u001b[39m\n",
      "cols(\n",
      "  `39` = \u001b[32mcol_double()\u001b[39m,\n",
      "  `State-gov` = \u001b[31mcol_character()\u001b[39m,\n",
      "  `77516` = \u001b[32mcol_double()\u001b[39m,\n",
      "  Bachelors = \u001b[31mcol_character()\u001b[39m,\n",
      "  `13` = \u001b[32mcol_double()\u001b[39m,\n",
      "  `Never-married` = \u001b[31mcol_character()\u001b[39m,\n",
      "  `Adm-clerical` = \u001b[31mcol_character()\u001b[39m,\n",
      "  `Not-in-family` = \u001b[31mcol_character()\u001b[39m,\n",
      "  White = \u001b[31mcol_character()\u001b[39m,\n",
      "  Male = \u001b[31mcol_character()\u001b[39m,\n",
      "  `2174` = \u001b[32mcol_double()\u001b[39m,\n",
      "  `0` = \u001b[32mcol_double()\u001b[39m,\n",
      "  `40` = \u001b[32mcol_double()\u001b[39m,\n",
      "  `United-States` = \u001b[31mcol_character()\u001b[39m,\n",
      "  `<=50K` = \u001b[31mcol_character()\u001b[39m\n",
      ")\n",
      "\n",
      "\n"
     ]
    },
    {
     "data": {
      "text/html": [
       "<table class=\"dataframe\">\n",
       "<caption>A tibble: 6 × 15</caption>\n",
       "<thead>\n",
       "\t<tr><th scope=col>age</th><th scope=col>work_class</th><th scope=col>fnlwgt</th><th scope=col>education</th><th scope=col>education_num</th><th scope=col>marital_stat</th><th scope=col>occupation</th><th scope=col>relationship</th><th scope=col>race</th><th scope=col>sex</th><th scope=col>capital_gain</th><th scope=col>capital_loss</th><th scope=col>hrs_per_week</th><th scope=col>country</th><th scope=col>NA</th></tr>\n",
       "\t<tr><th scope=col>&lt;dbl&gt;</th><th scope=col>&lt;chr&gt;</th><th scope=col>&lt;dbl&gt;</th><th scope=col>&lt;chr&gt;</th><th scope=col>&lt;dbl&gt;</th><th scope=col>&lt;chr&gt;</th><th scope=col>&lt;chr&gt;</th><th scope=col>&lt;chr&gt;</th><th scope=col>&lt;chr&gt;</th><th scope=col>&lt;chr&gt;</th><th scope=col>&lt;dbl&gt;</th><th scope=col>&lt;dbl&gt;</th><th scope=col>&lt;dbl&gt;</th><th scope=col>&lt;chr&gt;</th><th scope=col>&lt;chr&gt;</th></tr>\n",
       "</thead>\n",
       "<tbody>\n",
       "\t<tr><td>50</td><td>Self-emp-not-inc</td><td> 83311</td><td>Bachelors</td><td>13</td><td><span style=white-space:pre-wrap>Married-civ-spouse   </span></td><td><span style=white-space:pre-wrap>Exec-managerial  </span></td><td><span style=white-space:pre-wrap>Husband      </span></td><td>White</td><td><span style=white-space:pre-wrap>Male  </span></td><td>0</td><td>0</td><td>13</td><td>United-States</td><td>&lt;=50K</td></tr>\n",
       "\t<tr><td>38</td><td><span style=white-space:pre-wrap>Private         </span></td><td>215646</td><td><span style=white-space:pre-wrap>HS-grad  </span></td><td> 9</td><td><span style=white-space:pre-wrap>Divorced             </span></td><td>Handlers-cleaners</td><td>Not-in-family</td><td>White</td><td><span style=white-space:pre-wrap>Male  </span></td><td>0</td><td>0</td><td>40</td><td>United-States</td><td>&lt;=50K</td></tr>\n",
       "\t<tr><td>53</td><td><span style=white-space:pre-wrap>Private         </span></td><td>234721</td><td><span style=white-space:pre-wrap>11th     </span></td><td> 7</td><td><span style=white-space:pre-wrap>Married-civ-spouse   </span></td><td>Handlers-cleaners</td><td><span style=white-space:pre-wrap>Husband      </span></td><td>Black</td><td><span style=white-space:pre-wrap>Male  </span></td><td>0</td><td>0</td><td>40</td><td>United-States</td><td>&lt;=50K</td></tr>\n",
       "\t<tr><td>28</td><td><span style=white-space:pre-wrap>Private         </span></td><td>338409</td><td>Bachelors</td><td>13</td><td><span style=white-space:pre-wrap>Married-civ-spouse   </span></td><td><span style=white-space:pre-wrap>Prof-specialty   </span></td><td><span style=white-space:pre-wrap>Wife         </span></td><td>Black</td><td>Female</td><td>0</td><td>0</td><td>40</td><td><span style=white-space:pre-wrap>Cuba         </span></td><td>&lt;=50K</td></tr>\n",
       "\t<tr><td>37</td><td><span style=white-space:pre-wrap>Private         </span></td><td>284582</td><td><span style=white-space:pre-wrap>Masters  </span></td><td>14</td><td><span style=white-space:pre-wrap>Married-civ-spouse   </span></td><td><span style=white-space:pre-wrap>Exec-managerial  </span></td><td><span style=white-space:pre-wrap>Wife         </span></td><td>White</td><td>Female</td><td>0</td><td>0</td><td>40</td><td>United-States</td><td>&lt;=50K</td></tr>\n",
       "\t<tr><td>49</td><td><span style=white-space:pre-wrap>Private         </span></td><td>160187</td><td><span style=white-space:pre-wrap>9th      </span></td><td> 5</td><td>Married-spouse-absent</td><td><span style=white-space:pre-wrap>Other-service    </span></td><td>Not-in-family</td><td>Black</td><td>Female</td><td>0</td><td>0</td><td>16</td><td><span style=white-space:pre-wrap>Jamaica      </span></td><td>&lt;=50K</td></tr>\n",
       "</tbody>\n",
       "</table>\n"
      ],
      "text/latex": [
       "A tibble: 6 × 15\n",
       "\\begin{tabular}{lllllllllllllll}\n",
       " age & work\\_class & fnlwgt & education & education\\_num & marital\\_stat & occupation & relationship & race & sex & capital\\_gain & capital\\_loss & hrs\\_per\\_week & country & NA\\\\\n",
       " <dbl> & <chr> & <dbl> & <chr> & <dbl> & <chr> & <chr> & <chr> & <chr> & <chr> & <dbl> & <dbl> & <dbl> & <chr> & <chr>\\\\\n",
       "\\hline\n",
       "\t 50 & Self-emp-not-inc &  83311 & Bachelors & 13 & Married-civ-spouse    & Exec-managerial   & Husband       & White & Male   & 0 & 0 & 13 & United-States & <=50K\\\\\n",
       "\t 38 & Private          & 215646 & HS-grad   &  9 & Divorced              & Handlers-cleaners & Not-in-family & White & Male   & 0 & 0 & 40 & United-States & <=50K\\\\\n",
       "\t 53 & Private          & 234721 & 11th      &  7 & Married-civ-spouse    & Handlers-cleaners & Husband       & Black & Male   & 0 & 0 & 40 & United-States & <=50K\\\\\n",
       "\t 28 & Private          & 338409 & Bachelors & 13 & Married-civ-spouse    & Prof-specialty    & Wife          & Black & Female & 0 & 0 & 40 & Cuba          & <=50K\\\\\n",
       "\t 37 & Private          & 284582 & Masters   & 14 & Married-civ-spouse    & Exec-managerial   & Wife          & White & Female & 0 & 0 & 40 & United-States & <=50K\\\\\n",
       "\t 49 & Private          & 160187 & 9th       &  5 & Married-spouse-absent & Other-service     & Not-in-family & Black & Female & 0 & 0 & 16 & Jamaica       & <=50K\\\\\n",
       "\\end{tabular}\n"
      ],
      "text/markdown": [
       "\n",
       "A tibble: 6 × 15\n",
       "\n",
       "| age &lt;dbl&gt; | work_class &lt;chr&gt; | fnlwgt &lt;dbl&gt; | education &lt;chr&gt; | education_num &lt;dbl&gt; | marital_stat &lt;chr&gt; | occupation &lt;chr&gt; | relationship &lt;chr&gt; | race &lt;chr&gt; | sex &lt;chr&gt; | capital_gain &lt;dbl&gt; | capital_loss &lt;dbl&gt; | hrs_per_week &lt;dbl&gt; | country &lt;chr&gt; | NA &lt;chr&gt; |\n",
       "|---|---|---|---|---|---|---|---|---|---|---|---|---|---|---|\n",
       "| 50 | Self-emp-not-inc |  83311 | Bachelors | 13 | Married-civ-spouse    | Exec-managerial   | Husband       | White | Male   | 0 | 0 | 13 | United-States | &lt;=50K |\n",
       "| 38 | Private          | 215646 | HS-grad   |  9 | Divorced              | Handlers-cleaners | Not-in-family | White | Male   | 0 | 0 | 40 | United-States | &lt;=50K |\n",
       "| 53 | Private          | 234721 | 11th      |  7 | Married-civ-spouse    | Handlers-cleaners | Husband       | Black | Male   | 0 | 0 | 40 | United-States | &lt;=50K |\n",
       "| 28 | Private          | 338409 | Bachelors | 13 | Married-civ-spouse    | Prof-specialty    | Wife          | Black | Female | 0 | 0 | 40 | Cuba          | &lt;=50K |\n",
       "| 37 | Private          | 284582 | Masters   | 14 | Married-civ-spouse    | Exec-managerial   | Wife          | White | Female | 0 | 0 | 40 | United-States | &lt;=50K |\n",
       "| 49 | Private          | 160187 | 9th       |  5 | Married-spouse-absent | Other-service     | Not-in-family | Black | Female | 0 | 0 | 16 | Jamaica       | &lt;=50K |\n",
       "\n"
      ],
      "text/plain": [
       "  age work_class       fnlwgt education education_num marital_stat         \n",
       "1 50  Self-emp-not-inc  83311 Bachelors 13            Married-civ-spouse   \n",
       "2 38  Private          215646 HS-grad    9            Divorced             \n",
       "3 53  Private          234721 11th       7            Married-civ-spouse   \n",
       "4 28  Private          338409 Bachelors 13            Married-civ-spouse   \n",
       "5 37  Private          284582 Masters   14            Married-civ-spouse   \n",
       "6 49  Private          160187 9th        5            Married-spouse-absent\n",
       "  occupation        relationship  race  sex    capital_gain capital_loss\n",
       "1 Exec-managerial   Husband       White Male   0            0           \n",
       "2 Handlers-cleaners Not-in-family White Male   0            0           \n",
       "3 Handlers-cleaners Husband       Black Male   0            0           \n",
       "4 Prof-specialty    Wife          Black Female 0            0           \n",
       "5 Exec-managerial   Wife          White Female 0            0           \n",
       "6 Other-service     Not-in-family Black Female 0            0           \n",
       "  hrs_per_week country       <NA> \n",
       "1 13           United-States <=50K\n",
       "2 40           United-States <=50K\n",
       "3 40           United-States <=50K\n",
       "4 40           Cuba          <=50K\n",
       "5 40           United-States <=50K\n",
       "6 16           Jamaica       <=50K"
      ]
     },
     "metadata": {},
     "output_type": "display_data"
    }
   ],
   "source": [
    "raw_adult_data <- read_csv(\"adult.data\")\n",
    "\n",
    "colnames(raw_adult_data) <- c(\"age\", \"work_class\", \"fnlwgt\", \"education\", \"education_num\", \"marital_stat\", \"occupation\",\n",
    "                             \"relationship\", \"race\", \"sex\", \"capital_gain\", \"capital_loss\", \"hrs_per_week\", \"country\")\n",
    "\n",
    "head(raw_adult_data)"
   ]
  },
  {
   "cell_type": "code",
   "execution_count": 19,
   "id": "recent-gentleman",
   "metadata": {},
   "outputs": [
    {
     "data": {
      "text/html": [
       "<table class=\"dataframe\">\n",
       "<caption>A tibble: 6 × 2</caption>\n",
       "<thead>\n",
       "\t<tr><th scope=col>sex</th><th scope=col>hrs_per_week</th></tr>\n",
       "\t<tr><th scope=col>&lt;chr&gt;</th><th scope=col>&lt;dbl&gt;</th></tr>\n",
       "</thead>\n",
       "<tbody>\n",
       "\t<tr><td>Male</td><td>40</td></tr>\n",
       "\t<tr><td>Male</td><td>40</td></tr>\n",
       "\t<tr><td>Male</td><td>50</td></tr>\n",
       "\t<tr><td>Male</td><td>16</td></tr>\n",
       "\t<tr><td>Male</td><td>40</td></tr>\n",
       "\t<tr><td>Male</td><td>40</td></tr>\n",
       "</tbody>\n",
       "</table>\n"
      ],
      "text/latex": [
       "A tibble: 6 × 2\n",
       "\\begin{tabular}{ll}\n",
       " sex & hrs\\_per\\_week\\\\\n",
       " <chr> & <dbl>\\\\\n",
       "\\hline\n",
       "\t Male & 40\\\\\n",
       "\t Male & 40\\\\\n",
       "\t Male & 50\\\\\n",
       "\t Male & 16\\\\\n",
       "\t Male & 40\\\\\n",
       "\t Male & 40\\\\\n",
       "\\end{tabular}\n"
      ],
      "text/markdown": [
       "\n",
       "A tibble: 6 × 2\n",
       "\n",
       "| sex &lt;chr&gt; | hrs_per_week &lt;dbl&gt; |\n",
       "|---|---|\n",
       "| Male | 40 |\n",
       "| Male | 40 |\n",
       "| Male | 50 |\n",
       "| Male | 16 |\n",
       "| Male | 40 |\n",
       "| Male | 40 |\n",
       "\n"
      ],
      "text/plain": [
       "  sex  hrs_per_week\n",
       "1 Male 40          \n",
       "2 Male 40          \n",
       "3 Male 50          \n",
       "4 Male 16          \n",
       "5 Male 40          \n",
       "6 Male 40          "
      ]
     },
     "metadata": {},
     "output_type": "display_data"
    },
    {
     "data": {
      "text/html": [
       "<table class=\"dataframe\">\n",
       "<caption>A tibble: 6 × 2</caption>\n",
       "<thead>\n",
       "\t<tr><th scope=col>sex</th><th scope=col>hrs_per_week</th></tr>\n",
       "\t<tr><th scope=col>&lt;chr&gt;</th><th scope=col>&lt;dbl&gt;</th></tr>\n",
       "</thead>\n",
       "<tbody>\n",
       "\t<tr><td>Female</td><td>40</td></tr>\n",
       "\t<tr><td>Female</td><td>40</td></tr>\n",
       "\t<tr><td>Female</td><td>38</td></tr>\n",
       "\t<tr><td>Female</td><td>40</td></tr>\n",
       "\t<tr><td>Female</td><td>15</td></tr>\n",
       "\t<tr><td>Female</td><td>32</td></tr>\n",
       "</tbody>\n",
       "</table>\n"
      ],
      "text/latex": [
       "A tibble: 6 × 2\n",
       "\\begin{tabular}{ll}\n",
       " sex & hrs\\_per\\_week\\\\\n",
       " <chr> & <dbl>\\\\\n",
       "\\hline\n",
       "\t Female & 40\\\\\n",
       "\t Female & 40\\\\\n",
       "\t Female & 38\\\\\n",
       "\t Female & 40\\\\\n",
       "\t Female & 15\\\\\n",
       "\t Female & 32\\\\\n",
       "\\end{tabular}\n"
      ],
      "text/markdown": [
       "\n",
       "A tibble: 6 × 2\n",
       "\n",
       "| sex &lt;chr&gt; | hrs_per_week &lt;dbl&gt; |\n",
       "|---|---|\n",
       "| Female | 40 |\n",
       "| Female | 40 |\n",
       "| Female | 38 |\n",
       "| Female | 40 |\n",
       "| Female | 15 |\n",
       "| Female | 32 |\n",
       "\n"
      ],
      "text/plain": [
       "  sex    hrs_per_week\n",
       "1 Female 40          \n",
       "2 Female 40          \n",
       "3 Female 38          \n",
       "4 Female 40          \n",
       "5 Female 15          \n",
       "6 Female 32          "
      ]
     },
     "metadata": {},
     "output_type": "display_data"
    }
   ],
   "source": [
    "adult_data <- raw_adult_data %>%\n",
    "            select(sex, hrs_per_week)\n",
    "\n",
    "male_data <- adult_data %>%\n",
    "                filter(sex == \"Male\") %>%\n",
    "                rep_sample_n(size = 100, reps = 1) %>%\n",
    "                ungroup() %>%\n",
    "                select(sex, hrs_per_week)\n",
    "\n",
    "female_data <- adult_data %>%\n",
    "                filter(sex == \"Female\")%>%\n",
    "                rep_sample_n(size = 100, reps = 1) %>%\n",
    "                ungroup() %>%\n",
    "                select(sex, hrs_per_week)\n",
    "\n",
    "head(male_data)\n",
    "head(female_data)"
   ]
  },
  {
   "cell_type": "code",
   "execution_count": 20,
   "id": "amino-gauge",
   "metadata": {},
   "outputs": [
    {
     "data": {
      "text/html": [
       "<table class=\"dataframe\">\n",
       "<caption>A tibble: 6 × 2</caption>\n",
       "<thead>\n",
       "\t<tr><th scope=col>replicate</th><th scope=col>bootstrap_mean</th></tr>\n",
       "\t<tr><th scope=col>&lt;int&gt;</th><th scope=col>&lt;dbl&gt;</th></tr>\n",
       "</thead>\n",
       "<tbody>\n",
       "\t<tr><td>1</td><td>41.55</td></tr>\n",
       "\t<tr><td>2</td><td>40.40</td></tr>\n",
       "\t<tr><td>3</td><td>40.34</td></tr>\n",
       "\t<tr><td>4</td><td>41.70</td></tr>\n",
       "\t<tr><td>5</td><td>39.51</td></tr>\n",
       "\t<tr><td>6</td><td>39.74</td></tr>\n",
       "</tbody>\n",
       "</table>\n"
      ],
      "text/latex": [
       "A tibble: 6 × 2\n",
       "\\begin{tabular}{ll}\n",
       " replicate & bootstrap\\_mean\\\\\n",
       " <int> & <dbl>\\\\\n",
       "\\hline\n",
       "\t 1 & 41.55\\\\\n",
       "\t 2 & 40.40\\\\\n",
       "\t 3 & 40.34\\\\\n",
       "\t 4 & 41.70\\\\\n",
       "\t 5 & 39.51\\\\\n",
       "\t 6 & 39.74\\\\\n",
       "\\end{tabular}\n"
      ],
      "text/markdown": [
       "\n",
       "A tibble: 6 × 2\n",
       "\n",
       "| replicate &lt;int&gt; | bootstrap_mean &lt;dbl&gt; |\n",
       "|---|---|\n",
       "| 1 | 41.55 |\n",
       "| 2 | 40.40 |\n",
       "| 3 | 40.34 |\n",
       "| 4 | 41.70 |\n",
       "| 5 | 39.51 |\n",
       "| 6 | 39.74 |\n",
       "\n"
      ],
      "text/plain": [
       "  replicate bootstrap_mean\n",
       "1 1         41.55         \n",
       "2 2         40.40         \n",
       "3 3         40.34         \n",
       "4 4         41.70         \n",
       "5 5         39.51         \n",
       "6 6         39.74         "
      ]
     },
     "metadata": {},
     "output_type": "display_data"
    },
    {
     "data": {
      "text/html": [
       "<table class=\"dataframe\">\n",
       "<caption>A tibble: 6 × 2</caption>\n",
       "<thead>\n",
       "\t<tr><th scope=col>replicate</th><th scope=col>bootstrap_mean</th></tr>\n",
       "\t<tr><th scope=col>&lt;int&gt;</th><th scope=col>&lt;dbl&gt;</th></tr>\n",
       "</thead>\n",
       "<tbody>\n",
       "\t<tr><td>1</td><td>35.98</td></tr>\n",
       "\t<tr><td>2</td><td>36.29</td></tr>\n",
       "\t<tr><td>3</td><td>37.57</td></tr>\n",
       "\t<tr><td>4</td><td>36.54</td></tr>\n",
       "\t<tr><td>5</td><td>37.40</td></tr>\n",
       "\t<tr><td>6</td><td>34.79</td></tr>\n",
       "</tbody>\n",
       "</table>\n"
      ],
      "text/latex": [
       "A tibble: 6 × 2\n",
       "\\begin{tabular}{ll}\n",
       " replicate & bootstrap\\_mean\\\\\n",
       " <int> & <dbl>\\\\\n",
       "\\hline\n",
       "\t 1 & 35.98\\\\\n",
       "\t 2 & 36.29\\\\\n",
       "\t 3 & 37.57\\\\\n",
       "\t 4 & 36.54\\\\\n",
       "\t 5 & 37.40\\\\\n",
       "\t 6 & 34.79\\\\\n",
       "\\end{tabular}\n"
      ],
      "text/markdown": [
       "\n",
       "A tibble: 6 × 2\n",
       "\n",
       "| replicate &lt;int&gt; | bootstrap_mean &lt;dbl&gt; |\n",
       "|---|---|\n",
       "| 1 | 35.98 |\n",
       "| 2 | 36.29 |\n",
       "| 3 | 37.57 |\n",
       "| 4 | 36.54 |\n",
       "| 5 | 37.40 |\n",
       "| 6 | 34.79 |\n",
       "\n"
      ],
      "text/plain": [
       "  replicate bootstrap_mean\n",
       "1 1         35.98         \n",
       "2 2         36.29         \n",
       "3 3         37.57         \n",
       "4 4         36.54         \n",
       "5 5         37.40         \n",
       "6 6         34.79         "
      ]
     },
     "metadata": {},
     "output_type": "display_data"
    }
   ],
   "source": [
    "set.seed(2078)\n",
    "\n",
    "bootstrapped_male <- male_data %>%\n",
    "                    rep_sample_n(size = 100, reps = 1500, replace = TRUE) %>%\n",
    "                    group_by(replicate) %>%\n",
    "                    summarize(bootstrap_mean = mean(hrs_per_week))\n",
    "\n",
    "bootstrapped_female <- female_data %>%\n",
    "                    rep_sample_n(size = 100, reps = 1500, replace = TRUE) %>%\n",
    "                    group_by(replicate) %>%\n",
    "                    summarize(bootstrap_mean = mean(hrs_per_week))\n",
    "\n",
    "head(bootstrapped_male)\n",
    "head(bootstrapped_female)"
   ]
  },
  {
   "cell_type": "code",
   "execution_count": 23,
   "id": "sized-rings",
   "metadata": {},
   "outputs": [
    {
     "data": {
      "image/png": "[encoded data removed]",
      "text/plain": [
       "plot without title"
      ]
     },
     "metadata": {
      "image/png": {
       "height": 420,
       "width": 420
      }
     },
     "output_type": "display_data"
    },
    {
     "data": {
      "image/png": "[encoded data removed]",
      "text/plain": [
       "plot without title"
      ]
     },
     "metadata": {
      "image/png": {
       "height": 420,
       "width": 420
      }
     },
     "output_type": "display_data"
    }
   ],
   "source": [
    "bootstrapped_male_distribution <- bootstrapped_male %>%\n",
    "                                    ggplot(aes(x = bootstrap_mean)) +\n",
    "                                    geom_histogram(binwidth = 0.3) +\n",
    "                                    xlab(\"Bootstrap Sample Means of Hrs Worked Per Week\") +\n",
    "                                    ggtitle(\"Bootstrap Sampling Distributions of Hours Worked per Week for Males\")\n",
    "\n",
    "bootstrapped_female_distribution <- bootstrapped_female %>%\n",
    "                                    ggplot(aes(x = bootstrap_mean)) +\n",
    "                                    geom_histogram(binwidth = 0.3) +\n",
    "                                    xlab(\"Bootstrap Sample Means of Hrs Worked Per Week\") +\n",
    "                                    ggtitle(\"Bootstrap Sampling Distributions of Hours Worked per Week for Females\")\n",
    "\n",
    "bootstrapped_male_distribution\n",
    "bootstrapped_female_distribution"
   ]
  },
  {
   "cell_type": "code",
   "execution_count": null,
   "id": "through-battle",
   "metadata": {},
   "outputs": [],
   "source": []
  },
  {
   "cell_type": "code",
   "execution_count": null,
   "id": "empty-centre",
   "metadata": {},
   "outputs": [],
   "source": []
  }
 ],
 "metadata": {
  "kernelspec": {
   "display_name": "R",
   "language": "R",
   "name": "ir"
  },
  "language_info": {
   "codemirror_mode": "r",
   "file_extension": ".r",
   "mimetype": "text/x-r-source",
   "name": "R",
   "pygments_lexer": "r",
   "version": "4.0.3"
  }
 },
 "nbformat": 4,
 "nbformat_minor": 5
}
